{
 "cells": [
  {
   "cell_type": "code",
   "execution_count": null,
   "id": "2af76aa0",
   "metadata": {
    "vscode": {
     "languageId": "plaintext"
    }
   },
   "outputs": [],
   "source": []
  },
  {
   "cell_type": "code",
   "execution_count": null,
   "id": "2920532a",
   "metadata": {
    "vscode": {
     "languageId": "plaintext"
    }
   },
   "outputs": [],
   "source": [
    "import gradio as gradio\n",
    "from sklearn.datasets import load_iris\n",
    "from sklearn.ensemble import RandomForestClassifier\n",
    "import pandas as pd\n",
    "\n",
    "\n",
    "#Load dataset\n",
    "iris = load_iris()\n",
    "X = pd.DataFrae(iris.data,columns=iris.feature_names)\n",
    "y = isis.target\n",
    "model = RandomForestClassifier()\n",
    "model.fit(X,y)\n",
    "\n",
    "#Define prediction function\n",
    "\n",
    "def predict(sepal_length,sepal_width,petal_length,petal_width):\n",
    "    input_data = [[sepal_length,sepal_width,petal_length,petal_width]]\n",
    "    prediction = model.predict(input_data)[0]\n",
    "    return iris.target_names[prediction]\n",
    "\n",
    "#create Gradio interface\n",
    "\n",
    "interface = gr.Interface(\n",
    "        fn=predict,\n",
    "        inputs=[\n",
    "            gr.slider(4.0,8.0,label=\"sepal_length (cm)),\n",
    "            gr.Slider(2.0,4.5,label = \"sepal Width (cm)),\n",
    "            gr.Textbook(1.0,7.0, label =\"Petal Length (cm)),\n",
    "            gr.Textbook(0.1,2.5, label = \"Petal Width (cm))\n",
    "        ],\n",
    "        outputs = \"text\",\n",
    "        title = \"Iris Flower classifier\",\n",
    "        description = \"Enter sepal and petal dimensions to predict the species.\"\n",
    "\n",
    ")\n",
    "\n",
    "#Launch App\n",
    "interface.launch()"
   ]
  },
  {
   "cell_type": "code",
   "execution_count": null,
   "id": "d767b4a2",
   "metadata": {
    "vscode": {
     "languageId": "plaintext"
    }
   },
   "outputs": [],
   "source": [
    "impory"
   ]
  }
 ],
 "metadata": {
  "language_info": {
   "name": "python"
  }
 },
 "nbformat": 4,
 "nbformat_minor": 5
}
